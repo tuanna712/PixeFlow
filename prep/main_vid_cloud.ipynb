{
 "cells": [
  {
   "cell_type": "markdown",
   "id": "f246fa0a",
   "metadata": {},
   "source": [
    "## File Processing"
   ]
  },
  {
   "cell_type": "markdown",
   "id": "ee389b96",
   "metadata": {},
   "source": [
    "### 1. Videos Scanning & SQL Storing"
   ]
  },
  {
   "cell_type": "code",
   "execution_count": 4,
   "id": "2f934644",
   "metadata": {},
   "outputs": [
    {
     "name": "stdout",
     "output_type": "stream",
     "text": [
      "PostgreSQL connection established.\n",
      "Closing PostgreSQL database connection.\n",
      "Tables 'Video' created or already exist.\n",
      "Tables 'Frame' created or already exist.\n"
     ]
    }
   ],
   "source": [
    "## PostGreSQL\n",
    "from postgre_conn import PostgresDB\n",
    "PGDB = PostgresDB()\n",
    "if not PGDB.check_table_exists('video'):\n",
    "    PGDB.create_video_table()\n",
    "if not PGDB.check_table_exists('frame'):\n",
    "    PGDB.create_frame_table()\n"
   ]
  },
  {
   "cell_type": "code",
   "execution_count": 5,
   "id": "0c3bfe32",
   "metadata": {},
   "outputs": [
    {
     "name": "stdout",
     "output_type": "stream",
     "text": [
      "Found 3 videos in '../data/sample/' over 182 files:\n",
      "['./vtv24-3.mp4', 'L02/L021/vtv24-2.mp4', 'L01/vtv24-1.mp4']\n",
      "Other files extensions: ['.webp']\n",
      "['./vtv24-3.mp4', 'L02/L021/vtv24-2.mp4', 'L01/vtv24-1.mp4']\n"
     ]
    }
   ],
   "source": [
    "from base import DataDirectory, Video\n",
    "\n",
    "ROOT = '../data/sample/'\n",
    "video_formats = ['.mp4', '.avi', '.mov', '.mkv']\n",
    "Data_dir = DataDirectory(ROOT, video_formats=video_formats)\n",
    "found_videos = Data_dir.search_videos()\n",
    "print(f\"Found {len(found_videos)} videos in '{ROOT}' over {len(Data_dir.files)} files:\")\n",
    "print(found_videos[:5])\n",
    "\n",
    "print(f\"Other files extensions: {Data_dir.non_video_files_ext}\")\n",
    "\n",
    "Video_list = [Video(video_path, ROOT) for video_path in found_videos]\n",
    "print([video.path for video in Video_list])\n"
   ]
  },
  {
   "cell_type": "code",
   "execution_count": 6,
   "id": "f0f10047",
   "metadata": {},
   "outputs": [
    {
     "name": "stdout",
     "output_type": "stream",
     "text": [
      "Total videos in database: 3\n"
     ]
    }
   ],
   "source": [
    "# Insert video metadata into the database\n",
    "for video in Video_list:\n",
    "    video_data = (\n",
    "        video.id,\n",
    "        video.path,\n",
    "        video.name,\n",
    "        video.metadata['size'],\n",
    "        video.metadata['size_mb'],\n",
    "        video.metadata['format'],\n",
    "        video.metadata['last_modified'],\n",
    "        video.metadata['creation_time'],\n",
    "    )\n",
    "    PGDB.insert_video(video_data)\n",
    "print(f\"Total videos in database: {PGDB.total_videos()}\")"
   ]
  },
  {
   "cell_type": "code",
   "execution_count": 7,
   "id": "762d85c7",
   "metadata": {},
   "outputs": [
    {
     "data": {
      "text/html": [
       "<div>\n",
       "<style scoped>\n",
       "    .dataframe tbody tr th:only-of-type {\n",
       "        vertical-align: middle;\n",
       "    }\n",
       "\n",
       "    .dataframe tbody tr th {\n",
       "        vertical-align: top;\n",
       "    }\n",
       "\n",
       "    .dataframe thead th {\n",
       "        text-align: right;\n",
       "    }\n",
       "</style>\n",
       "<table border=\"1\" class=\"dataframe\">\n",
       "  <thead>\n",
       "    <tr style=\"text-align: right;\">\n",
       "      <th></th>\n",
       "      <th>id</th>\n",
       "      <th>path</th>\n",
       "      <th>name</th>\n",
       "      <th>size</th>\n",
       "      <th>size_mb</th>\n",
       "      <th>format</th>\n",
       "      <th>last_modified</th>\n",
       "      <th>creation_time</th>\n",
       "      <th>processed</th>\n",
       "      <th>hold</th>\n",
       "      <th>hold_by</th>\n",
       "      <th>processed_by</th>\n",
       "    </tr>\n",
       "  </thead>\n",
       "  <tbody>\n",
       "    <tr>\n",
       "      <th>0</th>\n",
       "      <td>7e06706f-9b46-49b9-87b0-e1c869d6086b</td>\n",
       "      <td>./vtv24-3.mp4</td>\n",
       "      <td>vtv24-3.mp4</td>\n",
       "      <td>7378714</td>\n",
       "      <td>7.04</td>\n",
       "      <td>.mp4</td>\n",
       "      <td>2025-07-14 21:07:10</td>\n",
       "      <td>2025-07-14 21:07:32</td>\n",
       "      <td>False</td>\n",
       "      <td>False</td>\n",
       "      <td>None</td>\n",
       "      <td>None</td>\n",
       "    </tr>\n",
       "    <tr>\n",
       "      <th>1</th>\n",
       "      <td>8b659095-c313-4739-835e-62084f959ee6</td>\n",
       "      <td>L02/L021/vtv24-2.mp4</td>\n",
       "      <td>vtv24-2.mp4</td>\n",
       "      <td>4552985</td>\n",
       "      <td>4.34</td>\n",
       "      <td>.mp4</td>\n",
       "      <td>2025-07-14 21:03:08</td>\n",
       "      <td>2025-08-11 23:12:33</td>\n",
       "      <td>False</td>\n",
       "      <td>False</td>\n",
       "      <td>None</td>\n",
       "      <td>None</td>\n",
       "    </tr>\n",
       "    <tr>\n",
       "      <th>2</th>\n",
       "      <td>fd2baad1-3e10-4bd4-869d-181ac90f96f8</td>\n",
       "      <td>L01/vtv24-1.mp4</td>\n",
       "      <td>vtv24-1.mp4</td>\n",
       "      <td>5387705</td>\n",
       "      <td>5.14</td>\n",
       "      <td>.mp4</td>\n",
       "      <td>2025-06-30 23:15:41</td>\n",
       "      <td>2025-08-11 23:12:22</td>\n",
       "      <td>False</td>\n",
       "      <td>False</td>\n",
       "      <td>None</td>\n",
       "      <td>None</td>\n",
       "    </tr>\n",
       "  </tbody>\n",
       "</table>\n",
       "</div>"
      ],
      "text/plain": [
       "                                     id                  path         name  \\\n",
       "0  7e06706f-9b46-49b9-87b0-e1c869d6086b         ./vtv24-3.mp4  vtv24-3.mp4   \n",
       "1  8b659095-c313-4739-835e-62084f959ee6  L02/L021/vtv24-2.mp4  vtv24-2.mp4   \n",
       "2  fd2baad1-3e10-4bd4-869d-181ac90f96f8       L01/vtv24-1.mp4  vtv24-1.mp4   \n",
       "\n",
       "      size  size_mb format        last_modified        creation_time  \\\n",
       "0  7378714     7.04   .mp4  2025-07-14 21:07:10  2025-07-14 21:07:32   \n",
       "1  4552985     4.34   .mp4  2025-07-14 21:03:08  2025-08-11 23:12:33   \n",
       "2  5387705     5.14   .mp4  2025-06-30 23:15:41  2025-08-11 23:12:22   \n",
       "\n",
       "   processed   hold hold_by processed_by  \n",
       "0      False  False    None         None  \n",
       "1      False  False    None         None  \n",
       "2      False  False    None         None  "
      ]
     },
     "execution_count": 7,
     "metadata": {},
     "output_type": "execute_result"
    }
   ],
   "source": [
    "import pandas as pd\n",
    "videos = PGDB.fetch_videos()\n",
    "df_videos = pd.DataFrame(videos, columns=['id', 'path', 'name', \n",
    "                                          'size', 'size_mb', 'format', \n",
    "                                          'last_modified', 'creation_time',\n",
    "                                          'processed', 'hold', 'hold_by', 'processed_by'\n",
    "                                          ])\n",
    "df_videos.head()"
   ]
  },
  {
   "cell_type": "code",
   "execution_count": 9,
   "id": "ef4c84c6",
   "metadata": {},
   "outputs": [
    {
     "name": "stdout",
     "output_type": "stream",
     "text": [
      "Videos to process: ['77bb72d2-2297-4617-a50b-66c14a9d2ad6', '727aff1e-de0b-4bc7-a07a-c0b2a7ed203a', '94c641dd-00e7-4950-9b86-ebbf269ca8ea']\n"
     ]
    }
   ],
   "source": [
    "user = \"tuanna\" # User requesting video processing\n",
    "n_videos = 20 # Number of videos to process\n",
    "ids = PGDB.get_videos_for_processing(user, n_vid=n_videos)\n",
    "print(f\"Videos to process: {ids}\")"
   ]
  },
  {
   "cell_type": "code",
   "execution_count": 12,
   "id": "b67f07e0",
   "metadata": {},
   "outputs": [
    {
     "data": {
      "text/html": [
       "<div>\n",
       "<style scoped>\n",
       "    .dataframe tbody tr th:only-of-type {\n",
       "        vertical-align: middle;\n",
       "    }\n",
       "\n",
       "    .dataframe tbody tr th {\n",
       "        vertical-align: top;\n",
       "    }\n",
       "\n",
       "    .dataframe thead th {\n",
       "        text-align: right;\n",
       "    }\n",
       "</style>\n",
       "<table border=\"1\" class=\"dataframe\">\n",
       "  <thead>\n",
       "    <tr style=\"text-align: right;\">\n",
       "      <th></th>\n",
       "      <th>id</th>\n",
       "      <th>path</th>\n",
       "      <th>name</th>\n",
       "      <th>size</th>\n",
       "      <th>size_mb</th>\n",
       "      <th>format</th>\n",
       "      <th>last_modified</th>\n",
       "      <th>creation_time</th>\n",
       "      <th>processed</th>\n",
       "      <th>hold</th>\n",
       "      <th>hold_by</th>\n",
       "      <th>processed_by</th>\n",
       "    </tr>\n",
       "  </thead>\n",
       "  <tbody>\n",
       "    <tr>\n",
       "      <th>0</th>\n",
       "      <td>ee9c105b-c68b-4623-b422-adc3dc324f16</td>\n",
       "      <td>./vtv24-3.mp4</td>\n",
       "      <td>vtv24-3.mp4</td>\n",
       "      <td>7378714</td>\n",
       "      <td>7.04</td>\n",
       "      <td>.mp4</td>\n",
       "      <td>2025-07-14 21:07:10</td>\n",
       "      <td>2025-07-14 21:07:32</td>\n",
       "      <td>True</td>\n",
       "      <td>False</td>\n",
       "      <td>None</td>\n",
       "      <td>tuanna</td>\n",
       "    </tr>\n",
       "    <tr>\n",
       "      <th>1</th>\n",
       "      <td>5ece214a-7e25-4e23-8588-f0b12cdf9df1</td>\n",
       "      <td>L02/L021/vtv24-2.mp4</td>\n",
       "      <td>vtv24-2.mp4</td>\n",
       "      <td>4552985</td>\n",
       "      <td>4.34</td>\n",
       "      <td>.mp4</td>\n",
       "      <td>2025-07-14 21:03:08</td>\n",
       "      <td>2025-08-11 23:12:33</td>\n",
       "      <td>True</td>\n",
       "      <td>False</td>\n",
       "      <td>None</td>\n",
       "      <td>tuanna</td>\n",
       "    </tr>\n",
       "    <tr>\n",
       "      <th>2</th>\n",
       "      <td>0c7401ef-06b7-42bc-bf81-b9cb57fd6d69</td>\n",
       "      <td>L01/vtv24-1.mp4</td>\n",
       "      <td>vtv24-1.mp4</td>\n",
       "      <td>5387705</td>\n",
       "      <td>5.14</td>\n",
       "      <td>.mp4</td>\n",
       "      <td>2025-06-30 23:15:41</td>\n",
       "      <td>2025-08-11 23:12:22</td>\n",
       "      <td>True</td>\n",
       "      <td>False</td>\n",
       "      <td>None</td>\n",
       "      <td>tuanna</td>\n",
       "    </tr>\n",
       "  </tbody>\n",
       "</table>\n",
       "</div>"
      ],
      "text/plain": [
       "                                     id                  path         name  \\\n",
       "0  ee9c105b-c68b-4623-b422-adc3dc324f16         ./vtv24-3.mp4  vtv24-3.mp4   \n",
       "1  5ece214a-7e25-4e23-8588-f0b12cdf9df1  L02/L021/vtv24-2.mp4  vtv24-2.mp4   \n",
       "2  0c7401ef-06b7-42bc-bf81-b9cb57fd6d69       L01/vtv24-1.mp4  vtv24-1.mp4   \n",
       "\n",
       "      size  size_mb format        last_modified        creation_time  \\\n",
       "0  7378714     7.04   .mp4  2025-07-14 21:07:10  2025-07-14 21:07:32   \n",
       "1  4552985     4.34   .mp4  2025-07-14 21:03:08  2025-08-11 23:12:33   \n",
       "2  5387705     5.14   .mp4  2025-06-30 23:15:41  2025-08-11 23:12:22   \n",
       "\n",
       "   processed   hold hold_by processed_by  \n",
       "0       True  False    None       tuanna  \n",
       "1       True  False    None       tuanna  \n",
       "2       True  False    None       tuanna  "
      ]
     },
     "execution_count": 12,
     "metadata": {},
     "output_type": "execute_result"
    }
   ],
   "source": [
    "import pandas as pd\n",
    "videos = PGDB.fetch_videos()\n",
    "df_videos = pd.DataFrame(videos, columns=['id', 'path', 'name', \n",
    "                                          'size', 'size_mb', 'format', \n",
    "                                          'last_modified', 'creation_time',\n",
    "                                          'processed', 'hold', 'hold_by', 'processed_by'\n",
    "                                          ])\n",
    "df_videos.head()"
   ]
  },
  {
   "cell_type": "code",
   "execution_count": 6,
   "id": "83a247e3",
   "metadata": {},
   "outputs": [
    {
     "name": "stdout",
     "output_type": "stream",
     "text": [
      "Video with ID 4d91eb70-cbef-4482-88de-b548563fcf30 does not exist.\n"
     ]
    }
   ],
   "source": [
    "user = \"tuanna\"\n",
    "video_id = \"4d91eb70-cbef-4482-88de-b548563fcf30\"\n",
    "PGDB.update_processed_video(video_id=video_id, processed_by=user)"
   ]
  },
  {
   "cell_type": "code",
   "execution_count": 7,
   "id": "87b4db56",
   "metadata": {},
   "outputs": [
    {
     "name": "stdout",
     "output_type": "stream",
     "text": [
      "Video 77bb72d2-2297-4617-a50b-66c14a9d2ad6 processed by tuanna.\n"
     ]
    }
   ],
   "source": [
    "user = \"tuanna\"\n",
    "video_id = \"77bb72d2-2297-4617-a50b-66c14a9d2ad6\"\n",
    "PGDB.update_processed_video(video_id=video_id, processed_by=user)"
   ]
  },
  {
   "cell_type": "code",
   "execution_count": null,
   "id": "7b4c6609",
   "metadata": {},
   "outputs": [],
   "source": [
    "user = \"tuanna\"\n",
    "PGDB.get_videos_on_hold(user)\n",
    "# PGDB.custom_execute(\"DROP TABLE video\")"
   ]
  },
  {
   "cell_type": "markdown",
   "id": "c33aa70e",
   "metadata": {},
   "source": [
    "### 2. Process Video to Frames"
   ]
  },
  {
   "cell_type": "markdown",
   "id": "4c26c27a",
   "metadata": {},
   "source": [
    "#### AutoShot"
   ]
  },
  {
   "cell_type": "code",
   "execution_count": null,
   "id": "b4a13150",
   "metadata": {},
   "outputs": [
    {
     "name": "stdout",
     "output_type": "stream",
     "text": [
      "PostgreSQL connection established.\n",
      "Closing PostgreSQL database connection.\n",
      "Connected to bucket 'hcmai25' successfully.\n",
      "No videos available for processing. All are on hold or processed!\n",
      "Processing 0 videos\n",
      "No videos found for processing.\n"
     ]
    }
   ],
   "source": [
    "import torch\n",
    "import sys, os\n",
    "\n",
    "from pathlib import Path\n",
    "sys.path.append(str(Path('main_vid_cloud.ipynb').resolve().parents[1]))\n",
    "\n",
    "from base import Frame\n",
    "from gcs import GCSManager\n",
    "from postgre_conn import PostgresDB\n",
    "from prep.imageProcessing.FrameDetection.AutoShot.autoshot import process_videos\n",
    "device = torch.device(\"cuda\" if torch.cuda.is_available() else 'mps' if torch.backends.mps.is_available() else \"cpu\")\n",
    "\n",
    "BUCKET_NAME = \"hcmai25\"\n",
    "KEY_FILE_PATH = \"citric-expanse-467622-h4-7e4e6343f1be.json\"\n",
    "PREFIX = \"https://storage.googleapis.com/hcmai25/\"\n",
    "\n",
    "N_VIDS = 20 \n",
    "USERNAME = \"tuanna\" \n",
    "ROOT = '../data/sample/'\n",
    "KEYFRAME_DIR = \"../data/sample/keyframes\"\n",
    "\n",
    "pretrained_model_path = \"../data/models/Autoshot/checkpoint/ckpt_0_200_0.pth\"\n",
    "\n",
    "PG = PostgresDB()\n",
    "GCS = GCSManager(BUCKET_NAME, KEY_FILE_PATH)\n",
    "processing_ids = PG.get_videos_for_processing(hold_by=USERNAME, n_vid=N_VIDS)\n",
    "\n",
    "print(f\"Processing {len(processing_ids)} videos\")\n",
    "if len(processing_ids) == 0:\n",
    "    print(\"No videos found for processing.\")\n",
    "else:\n",
    "    for video_id in processing_ids:\n",
    "        # In case, resuming task, clean frames by video_id\n",
    "        PG.delete_frames_by_video_id(video_id)\n",
    "        # Get video path\n",
    "        video_path = PG.fetch_video_by_id(video_id)[1]\n",
    "        actual_path = os.path.normpath(os.path.join(ROOT, video_path))\n",
    "        # AutoShot\n",
    "        results = process_videos(actual_path, pretrained_model_path, KEYFRAME_DIR)\n",
    "        # Update database\n",
    "        PG.update_processed_video(video_id=video_id, processed_by=USERNAME)\n",
    "        # Save keyframes\n",
    "        keyframes = results[actual_path]['keyframes']\n",
    "        for frame_path in keyframes:\n",
    "            _Frame = Frame()\n",
    "            _Frame.frame_path = frame_path\n",
    "            _Frame.video_id = video_id\n",
    "            _Frame.frame_index = int(frame_path.split('/')[-1].split('.')[0])\n",
    "            _Frame.frame_url = GCS.upload_file(frame_path, f\"{_Frame.id}.webp\")\n",
    "            PG.insert_frame((_Frame.id, _Frame.video_id, _Frame.frame_index, _Frame.frame_path, _Frame.frame_url))\n",
    "            os.remove(frame_path)\n",
    "        print(f\"Processed video {video_id} with {len(keyframes)} keyframes saved.\")"
   ]
  },
  {
   "cell_type": "markdown",
   "id": "b29949b4",
   "metadata": {},
   "source": [
    "#### TransNetV2"
   ]
  },
  {
   "cell_type": "code",
   "execution_count": null,
   "id": "713e9768",
   "metadata": {},
   "outputs": [
    {
     "name": "stdout",
     "output_type": "stream",
     "text": [
      "[TransNetV2] Using weights from /Users/dna-tuananguyen/Downloads/Projects/HCMAI25/PixeFlow/data/models/TransNetV2/inference/transnetv2-weights/.\n"
     ]
    }
   ],
   "source": [
    "import sys\n",
    "from pathlib import Path\n",
    "sys.path.append(str(Path('main_vid_cloud.ipynb').resolve().parents[1]))\n",
    "\n",
    "from data.models.TransNetV2.inference.transnetv2 import TransNetV2\n",
    "model = TransNetV2()\n",
    "\n",
    "video_path = \"...\"\n",
    "video_frames, single_frame_predictions, all_frame_predictions = model.predict_video(video_path)\n",
    "print(f\"Video frames shape: {video_frames.shape}\")"
   ]
  }
 ],
 "metadata": {
  "kernelspec": {
   "display_name": "apitcdk",
   "language": "python",
   "name": "python3"
  },
  "language_info": {
   "codemirror_mode": {
    "name": "ipython",
    "version": 3
   },
   "file_extension": ".py",
   "mimetype": "text/x-python",
   "name": "python",
   "nbconvert_exporter": "python",
   "pygments_lexer": "ipython3",
   "version": "3.11.11"
  }
 },
 "nbformat": 4,
 "nbformat_minor": 5
}
