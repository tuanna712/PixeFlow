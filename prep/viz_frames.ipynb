{
 "cells": [
  {
   "cell_type": "code",
   "execution_count": null,
   "id": "b5e2aea7",
   "metadata": {},
   "outputs": [],
   "source": [
    "import cv2, os\n",
    "import matplotlib.pyplot as plt\n",
    "import math\n",
    "\n",
    "def extract_frames(video_path, start_frame, end_frame, step=10):\n",
    "    \"\"\"\n",
    "    Extract frames from video between start_frame and end_frame.\n",
    "    step = interval (e.g. every 10th frame).\n",
    "    Returns: list of (frame_number, frame_image)\n",
    "    \"\"\"\n",
    "    cap = cv2.VideoCapture(video_path)\n",
    "    frames = []\n",
    "    frame_count = 0\n",
    "    \n",
    "    while cap.isOpened():\n",
    "        ret, frame = cap.read()\n",
    "        if not ret:\n",
    "            break\n",
    "\n",
    "        if start_frame <= frame_count <= end_frame:\n",
    "            if (frame_count - start_frame) % step == 0:\n",
    "                frame_rgb = cv2.cvtColor(frame, cv2.COLOR_BGR2RGB)\n",
    "                frames.append((frame_count, frame_rgb))\n",
    "\n",
    "        if frame_count > end_frame:\n",
    "            break\n",
    "\n",
    "        frame_count += 1\n",
    "\n",
    "    cap.release()\n",
    "    return frames\n",
    "\n",
    "def show_grid(frames, cols=4, figsize=(12, 8)):\n",
    "    \"\"\"\n",
    "    Show list of frames in a grid with frame numbers as titles.\n",
    "    \"\"\"\n",
    "    rows = math.ceil(len(frames) / cols)\n",
    "    plt.figure(figsize=figsize)\n",
    "\n",
    "    for i, (frame_num, frame) in enumerate(frames):\n",
    "        plt.subplot(rows, cols, i+1)\n",
    "        plt.imshow(frame)\n",
    "        plt.title(f\"Frame {frame_num}\", fontsize=8)\n",
    "        plt.axis(\"off\")\n",
    "\n",
    "    plt.tight_layout()\n",
    "    plt.show()"
   ]
  },
  {
   "cell_type": "code",
   "execution_count": null,
   "id": "a351914e",
   "metadata": {},
   "outputs": [],
   "source": [
    "# Example usage\n",
    "video_path = \"/kaggle/input/pf-data-videos/Videos_L23_a/video/L23_V009.mp4\"\n",
    "frames = extract_frames(video_path, start_frame=180, end_frame=200, step=1)\n",
    "show_grid(frames, cols=4)"
   ]
  }
 ],
 "metadata": {
  "language_info": {
   "name": "python"
  }
 },
 "nbformat": 4,
 "nbformat_minor": 5
}
