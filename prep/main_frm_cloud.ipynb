{
 "cells": [
  {
   "cell_type": "markdown",
   "id": "3f0997e9",
   "metadata": {},
   "source": [
    "## Frame Processing"
   ]
  },
  {
   "cell_type": "code",
   "execution_count": null,
   "id": "bac3c41d",
   "metadata": {},
   "outputs": [],
   "source": [
    "## Qdrant\n",
    "from qdrant_client import QdrantClient, models\n",
    "\n",
    "QDRANT_URL = \"34.63.214.230:6333\"\n",
    "client = QdrantClient(url=f\"http://{QDRANT_URL}\")\n",
    "# Print current collections\n",
    "collections = client.get_collections()\n",
    "print(\"Collections:\", collections)"
   ]
  },
  {
   "cell_type": "markdown",
   "id": "01978f24",
   "metadata": {},
   "source": [
    "### Frame"
   ]
  },
  {
   "cell_type": "code",
   "execution_count": 1,
   "id": "118de1c2",
   "metadata": {},
   "outputs": [
    {
     "name": "stdout",
     "output_type": "stream",
     "text": [
      "PostgreSQL connection established.\n",
      "Frames to process: ['8b393eca-65c2-487a-b634-a7a1f1055ac7', '2e34f8a5-e077-4cda-8bd9-9a7fbb5b0326', '0a297297-5ee3-4f77-b968-86178ea9af28', 'e8845476-69ec-4ba4-8c46-9e6d41fad9c4', '0d12bb63-a6e2-473e-b65a-84ac3d314931', '11b93010-328a-484a-b739-1f5cf9463268', '06e11fea-f2d2-4c2b-9b9b-c5bbfcc864de', '8adf8de2-34b3-4121-83d7-7e077f50540f', '3f83d95f-9dae-4a12-842b-8f0b9a3e8544', '10ffe6f8-84d7-439d-a302-9aa45b9148d4', '8394bd08-b847-48e7-a358-d3408d5e707c', '876314b5-004d-40f8-aaeb-526ea29b8f4f', '154f45bc-6d1e-4c96-993a-9926886c770b', '42828057-589f-4bb9-a94e-3ff35cd05c2b', '55adc09d-ecbc-439d-89b0-46b74320a442', '52b13809-5ad7-4cee-b2fb-890c9206e051', 'b4d10eef-1283-4c3e-bcf5-b3b3e6d625af', '6197e003-6691-4274-9443-2e86295a9759', '3eb616ee-7ce0-4747-8829-d7f5f8b636ed', 'b6c926fa-0c39-4938-987c-b827545193ab']\n"
     ]
    }
   ],
   "source": [
    "from postgre_conn import PostgresDB\n",
    "PG = PostgresDB()\n",
    "\n",
    "USERNAME = \"tuanna\" \n",
    "n_frames = 20\n",
    "\n",
    "ids = PG.get_frames_for_processing(USERNAME, n_frames=n_frames)\n",
    "print(f\"Frames to process: {ids}\")"
   ]
  },
  {
   "cell_type": "code",
   "execution_count": 3,
   "id": "457c9a26",
   "metadata": {},
   "outputs": [
    {
     "data": {
      "text/html": [
       "<div>\n",
       "<style scoped>\n",
       "    .dataframe tbody tr th:only-of-type {\n",
       "        vertical-align: middle;\n",
       "    }\n",
       "\n",
       "    .dataframe tbody tr th {\n",
       "        vertical-align: top;\n",
       "    }\n",
       "\n",
       "    .dataframe thead th {\n",
       "        text-align: right;\n",
       "    }\n",
       "</style>\n",
       "<table border=\"1\" class=\"dataframe\">\n",
       "  <thead>\n",
       "    <tr style=\"text-align: right;\">\n",
       "      <th></th>\n",
       "      <th>id</th>\n",
       "      <th>video_id</th>\n",
       "      <th>frame_index</th>\n",
       "      <th>frame_path</th>\n",
       "      <th>frame_url</th>\n",
       "      <th>ocr</th>\n",
       "      <th>objects</th>\n",
       "      <th>transcription</th>\n",
       "      <th>description</th>\n",
       "      <th>caption</th>\n",
       "      <th>processed</th>\n",
       "      <th>hold</th>\n",
       "      <th>hold_by</th>\n",
       "      <th>processed_by</th>\n",
       "    </tr>\n",
       "  </thead>\n",
       "  <tbody>\n",
       "    <tr>\n",
       "      <th>0</th>\n",
       "      <td>0074f81b-e6f3-41b4-9e04-ef0a0ff61f6a</td>\n",
       "      <td>7e06706f-9b46-49b9-87b0-e1c869d6086b</td>\n",
       "      <td>1711</td>\n",
       "      <td>../data/sample/keyframes/vtv24-3/00001711.webp</td>\n",
       "      <td>https://storage.googleapis.com/hcmai25/0074f81...</td>\n",
       "      <td>None</td>\n",
       "      <td>None</td>\n",
       "      <td>None</td>\n",
       "      <td>None</td>\n",
       "      <td>None</td>\n",
       "      <td>False</td>\n",
       "      <td>False</td>\n",
       "      <td>None</td>\n",
       "      <td>None</td>\n",
       "    </tr>\n",
       "    <tr>\n",
       "      <th>1</th>\n",
       "      <td>7d52e125-2ec9-4ada-8d9b-5c591e9b3b40</td>\n",
       "      <td>7e06706f-9b46-49b9-87b0-e1c869d6086b</td>\n",
       "      <td>1872</td>\n",
       "      <td>../data/sample/keyframes/vtv24-3/00001872.webp</td>\n",
       "      <td>https://storage.googleapis.com/hcmai25/7d52e12...</td>\n",
       "      <td>None</td>\n",
       "      <td>None</td>\n",
       "      <td>None</td>\n",
       "      <td>None</td>\n",
       "      <td>None</td>\n",
       "      <td>False</td>\n",
       "      <td>False</td>\n",
       "      <td>None</td>\n",
       "      <td>None</td>\n",
       "    </tr>\n",
       "    <tr>\n",
       "      <th>2</th>\n",
       "      <td>5e9c7458-8b24-4584-96db-eb659f9f35a8</td>\n",
       "      <td>7e06706f-9b46-49b9-87b0-e1c869d6086b</td>\n",
       "      <td>2033</td>\n",
       "      <td>../data/sample/keyframes/vtv24-3/00002033.webp</td>\n",
       "      <td>https://storage.googleapis.com/hcmai25/5e9c745...</td>\n",
       "      <td>None</td>\n",
       "      <td>None</td>\n",
       "      <td>None</td>\n",
       "      <td>None</td>\n",
       "      <td>None</td>\n",
       "      <td>False</td>\n",
       "      <td>False</td>\n",
       "      <td>None</td>\n",
       "      <td>None</td>\n",
       "    </tr>\n",
       "    <tr>\n",
       "      <th>3</th>\n",
       "      <td>04d48d95-9346-487d-adcc-a087fb1d0647</td>\n",
       "      <td>7e06706f-9b46-49b9-87b0-e1c869d6086b</td>\n",
       "      <td>2194</td>\n",
       "      <td>../data/sample/keyframes/vtv24-3/00002194.webp</td>\n",
       "      <td>https://storage.googleapis.com/hcmai25/04d48d9...</td>\n",
       "      <td>None</td>\n",
       "      <td>None</td>\n",
       "      <td>None</td>\n",
       "      <td>None</td>\n",
       "      <td>None</td>\n",
       "      <td>False</td>\n",
       "      <td>False</td>\n",
       "      <td>None</td>\n",
       "      <td>None</td>\n",
       "    </tr>\n",
       "    <tr>\n",
       "      <th>4</th>\n",
       "      <td>564e70c0-d712-4bd5-b8b0-7ebe9f539b80</td>\n",
       "      <td>7e06706f-9b46-49b9-87b0-e1c869d6086b</td>\n",
       "      <td>2322</td>\n",
       "      <td>../data/sample/keyframes/vtv24-3/00002322.webp</td>\n",
       "      <td>https://storage.googleapis.com/hcmai25/564e70c...</td>\n",
       "      <td>None</td>\n",
       "      <td>None</td>\n",
       "      <td>None</td>\n",
       "      <td>None</td>\n",
       "      <td>None</td>\n",
       "      <td>False</td>\n",
       "      <td>False</td>\n",
       "      <td>None</td>\n",
       "      <td>None</td>\n",
       "    </tr>\n",
       "  </tbody>\n",
       "</table>\n",
       "</div>"
      ],
      "text/plain": [
       "                                     id                              video_id  \\\n",
       "0  0074f81b-e6f3-41b4-9e04-ef0a0ff61f6a  7e06706f-9b46-49b9-87b0-e1c869d6086b   \n",
       "1  7d52e125-2ec9-4ada-8d9b-5c591e9b3b40  7e06706f-9b46-49b9-87b0-e1c869d6086b   \n",
       "2  5e9c7458-8b24-4584-96db-eb659f9f35a8  7e06706f-9b46-49b9-87b0-e1c869d6086b   \n",
       "3  04d48d95-9346-487d-adcc-a087fb1d0647  7e06706f-9b46-49b9-87b0-e1c869d6086b   \n",
       "4  564e70c0-d712-4bd5-b8b0-7ebe9f539b80  7e06706f-9b46-49b9-87b0-e1c869d6086b   \n",
       "\n",
       "   frame_index                                      frame_path  \\\n",
       "0         1711  ../data/sample/keyframes/vtv24-3/00001711.webp   \n",
       "1         1872  ../data/sample/keyframes/vtv24-3/00001872.webp   \n",
       "2         2033  ../data/sample/keyframes/vtv24-3/00002033.webp   \n",
       "3         2194  ../data/sample/keyframes/vtv24-3/00002194.webp   \n",
       "4         2322  ../data/sample/keyframes/vtv24-3/00002322.webp   \n",
       "\n",
       "                                           frame_url   ocr objects  \\\n",
       "0  https://storage.googleapis.com/hcmai25/0074f81...  None    None   \n",
       "1  https://storage.googleapis.com/hcmai25/7d52e12...  None    None   \n",
       "2  https://storage.googleapis.com/hcmai25/5e9c745...  None    None   \n",
       "3  https://storage.googleapis.com/hcmai25/04d48d9...  None    None   \n",
       "4  https://storage.googleapis.com/hcmai25/564e70c...  None    None   \n",
       "\n",
       "  transcription description caption  processed   hold hold_by processed_by  \n",
       "0          None        None    None      False  False    None         None  \n",
       "1          None        None    None      False  False    None         None  \n",
       "2          None        None    None      False  False    None         None  \n",
       "3          None        None    None      False  False    None         None  \n",
       "4          None        None    None      False  False    None         None  "
      ]
     },
     "execution_count": 3,
     "metadata": {},
     "output_type": "execute_result"
    }
   ],
   "source": [
    "import pandas as pd\n",
    "frames = PG.fetch_frames()\n",
    "df_frames = pd.DataFrame(frames, columns=['id', 'video_id', 'frame_index', \n",
    "                                          'frame_path', 'frame_url', 'ocr', \n",
    "                                          'objects', 'transcription', 'description', \n",
    "                                          'caption', 'processed', 'hold', 'hold_by', \n",
    "                                          'processed_by'])\n",
    "df_frames.head(5)"
   ]
  },
  {
   "cell_type": "code",
   "execution_count": null,
   "id": "a0a085d3",
   "metadata": {},
   "outputs": [],
   "source": []
  },
  {
   "cell_type": "markdown",
   "id": "9e7511a0",
   "metadata": {},
   "source": [
    "### Object Detections"
   ]
  },
  {
   "cell_type": "markdown",
   "id": "ca4336eb",
   "metadata": {},
   "source": [
    "### STT/ ASR"
   ]
  },
  {
   "cell_type": "markdown",
   "id": "9d437b13",
   "metadata": {},
   "source": [
    "### Captioning"
   ]
  },
  {
   "cell_type": "markdown",
   "id": "24a7e0ae",
   "metadata": {},
   "source": [
    "### VLM Description"
   ]
  },
  {
   "cell_type": "markdown",
   "id": "91d4232c",
   "metadata": {},
   "source": [
    "### OCR"
   ]
  },
  {
   "cell_type": "code",
   "execution_count": null,
   "id": "4484ae47",
   "metadata": {},
   "outputs": [],
   "source": []
  },
  {
   "cell_type": "markdown",
   "id": "f1d36bb4",
   "metadata": {},
   "source": [
    "### Update SQL Frame\n",
    "### Import to VectorDB / ElasicSearch"
   ]
  },
  {
   "cell_type": "markdown",
   "id": "dd21e5b4",
   "metadata": {},
   "source": []
  }
 ],
 "metadata": {
  "kernelspec": {
   "display_name": "apitcdk",
   "language": "python",
   "name": "python3"
  },
  "language_info": {
   "codemirror_mode": {
    "name": "ipython",
    "version": 3
   },
   "file_extension": ".py",
   "mimetype": "text/x-python",
   "name": "python",
   "nbconvert_exporter": "python",
   "pygments_lexer": "ipython3",
   "version": "3.11.11"
  }
 },
 "nbformat": 4,
 "nbformat_minor": 5
}
