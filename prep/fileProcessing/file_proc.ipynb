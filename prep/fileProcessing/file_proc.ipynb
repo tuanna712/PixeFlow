{
 "cells": [
  {
   "cell_type": "code",
   "execution_count": null,
   "id": "e69c62d6",
   "metadata": {},
   "outputs": [],
   "source": [
    "import os\n",
    "import pandas as pd\n",
    "from pathlib import Path\n",
    "\n",
    "from params import SQLITE_PATH\n",
    "from metadata import MetadataDB\n",
    "from base import DataDirectory, Video\n",
    "\n",
    "video_path = '../data/sample/'\n",
    "Data_dir = DataDirectory(video_path)\n",
    "\n",
    "found_videos = Data_dir.search_videos()\n",
    "\n",
    "print(f\"Found {len(found_videos)} videos in '{video_path}':\")\n",
    "print(found_videos[:5])\n",
    "\n",
    "Video_list = [Video(video) for video in found_videos]\n"
   ]
  },
  {
   "cell_type": "code",
   "execution_count": null,
   "id": "3e0d6c55",
   "metadata": {},
   "outputs": [],
   "source": [
    "# Ensure directory exists\n",
    "os.makedirs(Path(SQLITE_PATH).parent, exist_ok=True)\n",
    "db = MetadataDB(SQLITE_PATH)\n",
    "if db.check_table_exists(\"Video\"):\n",
    "    db.delete_all_videos()\n",
    "    db.drop_table(\"Video\")\n",
    "db.create_tables()"
   ]
  },
  {
   "cell_type": "code",
   "execution_count": null,
   "id": "99e64d24",
   "metadata": {},
   "outputs": [],
   "source": [
    "# Insert video metadata into the database\n",
    "for video in Video_list:\n",
    "    video_data = (\n",
    "        video.id,\n",
    "        video.path,\n",
    "        video.name,\n",
    "        video.metadata['size'],\n",
    "        video.metadata['size_mb'],\n",
    "        video.metadata['format'],\n",
    "        video.metadata['last_modified'],\n",
    "        video.metadata['creation_time'],\n",
    "    )\n",
    "    db.insert_video(video_data)"
   ]
  },
  {
   "cell_type": "code",
   "execution_count": null,
   "id": "bc205047",
   "metadata": {},
   "outputs": [],
   "source": [
    "videos = db.fetch_videos()\n",
    "df_videos = pd.DataFrame(videos, columns=['id', 'path', 'name', 'size', 'size_mb', 'format', 'last_modified', 'creation_time'])\n",
    "df_videos.head()"
   ]
  }
 ],
 "metadata": {
  "kernelspec": {
   "display_name": "nndl",
   "language": "python",
   "name": "python3"
  },
  "language_info": {
   "name": "python",
   "version": "3.10.16"
  }
 },
 "nbformat": 4,
 "nbformat_minor": 5
}
