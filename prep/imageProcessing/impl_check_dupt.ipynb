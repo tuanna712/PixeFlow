{
 "cells": [
  {
   "cell_type": "code",
   "execution_count": null,
   "id": "ef8fb6b4",
   "metadata": {},
   "outputs": [],
   "source": [
    "import os\n",
    "def get_video_ids_by_folder(folder):\n",
    "    # Video names in Folder\n",
    "    video_names = []\n",
    "    folder_path = '/kaggle/input/pf-data-frames/{}/keyframes'.format(folder)\n",
    "    for video_name in os.listdir(folder_path):\n",
    "        video_names.append(str(video_name)+'.mp4')\n",
    "        \n",
    "    # Video IDs\n",
    "    video_ids = []\n",
    "    for video_name in video_names:\n",
    "        video_id = PGDB.fetch_video_by_name(video_name)\n",
    "        video_ids.append(video_id[0])\n",
    "        \n",
    "        frame_path = folder_path+'/'+video_name[:-4]\n",
    "        for _, _, files in os.walk(frame_path):\n",
    "            n_local_frames = len(files)\n",
    "\n",
    "        n_sql_frames = PGDB.fetch_num_frame_by_video_id(video_id[0], table_name='btc_frame')\n",
    "        if n_local_frames!=n_sql_frames:\n",
    "            print(f\"n_local = {n_local_frames}, n_sql = {n_sql_frames}\")\n",
    "            print(f\"Difference at {video_name[:-4]} with video_id {video_id}\")\n",
    "\n",
    "    return video_names, video_ids\n",
    "\n",
    "root = 'Keyframes_L26_c'\n",
    "video_names, video_ids = get_video_ids_by_folder(root)"
   ]
  },
  {
   "cell_type": "code",
   "execution_count": null,
   "id": "a59788b7",
   "metadata": {},
   "outputs": [],
   "source": [
    "err_video_ids = ['ff235268-334d-4d74-a630-84d8e93df175',\n",
    "                '3b322a1f-60d7-4264-aa46-d0a625049153',\n",
    "                ]\n",
    "\n",
    "# Get all frames has same video_name and frame_index from SQL DB\n",
    "root = 'Keyframes_L26_c'\n",
    "for video_name in ['L26_V299', 'L26_V284']:\n",
    "    video_id = PGDB.fetch_video_by_name(video_name+'.mp4')\n",
    "    frame_path = f'/kaggle/input/pf-data-frames/{root}/keyframes'+'/'+video_name\n",
    "    for _, _, files in os.walk(frame_path):\n",
    "        for file in files:\n",
    "            frame_index = file.split('.')[0]\n",
    "            sql_frames = PGDB.custom_execute(f\"SELECT * FROM btc_frame WHERE video_id=%s AND frame_index=%s\",\n",
    "                            (video_id, frame_index))\n",
    "            # If there are more than 1 frame per video_name and frame_index return them\n",
    "            if len(sql_frames) > 1:\n",
    "                print('-'*50)\n",
    "                print(sql_frames)\n",
    "            elif sql_frames is None:\n",
    "                print(\"No frame in SQL: \",video_id, frame_index)"
   ]
  },
  {
   "cell_type": "code",
   "execution_count": null,
   "id": "ef0471fd",
   "metadata": {},
   "outputs": [],
   "source": [
    "duplicated = [('3d7b8132-072a-44b9-9d87-f2154ab874f7', '520e577c-ba75-4724-9560-17c2be7240d0'),\n",
    " ('b9f767d0-b329-48ae-9632-21da1e7d76c4', '8e06fca3-b993-4910-b9b0-4d099a2a69a1'),\n",
    "]\n",
    "for ele_set in duplicated:\n",
    "    print(QVS.retrieve(ele_set[0]))\n",
    "    print(QVS.retrieve(ele_set[1]))\n",
    "    print('-'*50)"
   ]
  },
  {
   "cell_type": "code",
   "execution_count": null,
   "id": "4fd08828",
   "metadata": {},
   "outputs": [],
   "source": [
    "delete = ['520e577c-ba75-4724-9560-17c2be7240d0', # Delete SQL and update url to the other\n",
    "          'b9f767d0-b329-48ae-9632-21da1e7d76c4', # Delete SQL\n",
    "         ]\n",
    "#--------------------------------------------------\n",
    "[('3d7b8132-072a-44b9-9d87-f2154ab874f7', 'ff235268-334d-4d74-a630-84d8e93df175', 105, '/kaggle/input/pf-data-frames/Keyframes_L26_c/keyframes/L26_V299/105.jpg', None, '{\"HTV Online\",\"Xem chi tiết tại monngonmoingay.com\"}', None, None, 'Hình ảnh chụp cận cảnh một người đang rót mèi vào một chiếc nồi bằng gốm màu xanh lá cây. Bên cạnh là một bát đựng mèi và một số dụng cụ khác.', None, False, False, None, None, False, True), \n",
    " ('520e577c-ba75-4724-9560-17c2be7240d0', 'ff235268-334d-4d74-a630-84d8e93df175', 105, '/kaggle/input/pf-data-frames/Keyframes_L26_c/keyframes/L26_V299/105.jpg', 'https://storage.googleapis.com/hcmai25/Keyframes_L26_c/L26_V299/105.webp', None, None, None, None, None, False, False, None, None, False, False)]\n",
    "#--------------------------------------------------\n",
    "[('b9f767d0-b329-48ae-9632-21da1e7d76c4', '3b322a1f-60d7-4264-aa46-d0a625049153', 143, '/kaggle/input/pf-data-frames/Keyframes_L26_c/keyframes/L26_V284/143.jpg', 'https://storage.googleapis.com/hcmai25/Keyframes_L26_c/L26_V284/143.webp', None, None, None, None, None, False, False, None, None, False, False), \n",
    " ('8e06fca3-b993-4910-b9b0-4d099a2a69a1', '3b322a1f-60d7-4264-aa46-d0a625049153', 143, '/kaggle/input/pf-data-frames/Keyframes_L26_c/keyframes/L26_V284/143.jpg', 'https://storage.googleapis.com/hcmai25/Keyframes_L26_c/L26_V284/143.webp', '{\"HTV ON MON NGON mỗi ngày\",\"Eat We: Live Web\",#AINOMOTO}', None, None, 'Hình ảnh cho thấy hai người mặc áo khoác trắng, một nam và một nữ, đứng trong một căn bếp hiện đại với thiết kế tối giản.', None, False, False, None, None, False, True)]"
   ]
  },
  {
   "cell_type": "code",
   "execution_count": null,
   "id": "e398e24d",
   "metadata": {},
   "outputs": [],
   "source": [
    "removing_frame_id = ['520e577c-ba75-4724-9560-17c2be7240d0', # Delete SQL and update url to the other\n",
    "          'b9f767d0-b329-48ae-9632-21da1e7d76c4', # Delete SQL\n",
    "         ]\n",
    "for rm_id in removing_frame_id:\n",
    "    PGDB.custom_execute(\"DELETE FROM btc_frame WHERE id=%s\", (rm_id,))"
   ]
  },
  {
   "cell_type": "code",
   "execution_count": null,
   "id": "1dbb06e4",
   "metadata": {},
   "outputs": [],
   "source": [
    "update_frame_id = [\n",
    "          '5e69e040-578c-4324-b43f-e9dae0008666', # Delete in SQL only # Need to update link to the upper \n",
    "          '67039d88-0b9e-4e1e-a855-9ef8b9068d2c', # Delete in SQL and Qdrant # Need to update link to the upper \n",
    "          'e25be639-4206-40b5-a2db-dbb4241aaf85', # Delete in SQL only # Need to update frame_url, ocr, description\n",
    "         ]\n",
    "uid1 = '3d7b8132-072a-44b9-9d87-f2154ab874f7'\n",
    "update1 = {\n",
    "    'id':uid1,\n",
    "    'frame_url':'https://storage.googleapis.com/hcmai25/Keyframes_L26_c/L26_V299/105.webp',\n",
    "  }\n",
    "uid2 = '350eb846-b13e-4930-9d02-8a191093790b'\n",
    "update2 = {\n",
    "    'id':uid2,\n",
    "    'frame_url':'https://storage.googleapis.com/hcmai25/Keyframes_L26_b/L26_V105/064.webp',\n",
    "}\n",
    "uid3 = '928bae8a-94fa-49ac-b9f4-9d7062c3fefe'\n",
    "update3 = {\n",
    "    'id':uid3,\n",
    "    'frame_url':'https://storage.googleapis.com/hcmai25/Keyframes_L26_b/L26_V106/122.webp',\n",
    "    'ocr':'{\"HTV Online\"}',\n",
    "    'description':\"Hình ảnh chụp một người phụ nữ trẻ đang mặc áo sọc trắng đen, đeo tạp dề màu đỏ, đứng trước tủ lạnh và kệ sách trong nhà bếp. Cô ấy đang cầm một tờ giấy quảng cáo của chương trình nấu ăn 'Món ngon mỗi ngày' trên tay.\",\n",
    "}\n",
    "\n",
    "PGDB.custom_execute(\"\"\"\n",
    "        UPDATE btc_frame SET frame_url=%s\n",
    "        WHERE id=%s\n",
    "        \"\"\", (update1['frame_url'], uid1))\n",
    "\n",
    "PGDB.custom_execute(\"\"\"\n",
    "        UPDATE btc_frame SET frame_url=%s\n",
    "        WHERE id=%s\n",
    "        \"\"\", (update2['frame_url'], uid2))\n",
    "\n",
    "PGDB.custom_execute(\"\"\"\n",
    "        UPDATE btc_frame SET frame_url=%s, ocr=%s, description=%s\n",
    "        WHERE id=%s\n",
    "        \"\"\", (update3['frame_url'], update3['ocr'], update3['description'], uid3))\n"
   ]
  },
  {
   "cell_type": "code",
   "execution_count": null,
   "id": "04ebba72",
   "metadata": {},
   "outputs": [],
   "source": [
    "print(PGDB.fetch_frame_by_id(uid1))\n",
    "print('-'*50)\n",
    "print(PGDB.fetch_frame_by_id(uid2))\n",
    "print('-'*50)\n",
    "print(PGDB.fetch_frame_by_id(uid3))"
   ]
  },
  {
   "cell_type": "code",
   "execution_count": null,
   "id": "d93cd5c3",
   "metadata": {},
   "outputs": [],
   "source": [
    "from qdrant_client.http import models\n",
    "\n",
    "qdrant_removing_frame_id = ['c0300ebb-1ad6-420b-b492-5355c0fc6423', # Delete in SQL and Qdrant\n",
    "          '75699e26-8b67-4acd-9aa0-f630b1133d51', # Delete in SQL and Qdrant\n",
    "          'a495b3a8-1324-418e-ad57-ad9dc1c97800', # Delete in SQL and Qdrant\n",
    "          '67039d88-0b9e-4e1e-a855-9ef8b9068d2c', # Delete in SQL and Qdrant # Need to update link to the upper \n",
    "         ]\n",
    "for rm_id in qdrant_removing_frame_id:\n",
    "    # QVS.delete(rm_id)\n",
    "    client.delete(\n",
    "        collection_name=\"FrameBeitEmbedding\",\n",
    "        points_selector=models.PointIdsList(\n",
    "            points=[rm_id],\n",
    "            ),\n",
    "        )"
   ]
  }
 ],
 "metadata": {
  "language_info": {
   "name": "python"
  }
 },
 "nbformat": 4,
 "nbformat_minor": 5
}
