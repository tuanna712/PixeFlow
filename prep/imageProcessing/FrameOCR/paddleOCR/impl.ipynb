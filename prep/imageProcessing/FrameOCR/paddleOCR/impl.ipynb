{
 "cells": [
  {
   "cell_type": "code",
   "execution_count": null,
   "id": "0c269d34",
   "metadata": {},
   "outputs": [],
   "source": [
    "!pip install -q timm einops peft wandb deepspeed accelerate bitsandbytes decord tensorboardX gdown\n",
    "!pip install -U datasets\n",
    "!pip install transformers==4.47.0\n",
    "!pip install flash_attn==2.7.2.post1"
   ]
  }
 ],
 "metadata": {
  "kernelspec": {
   "display_name": "apitcdk",
   "language": "python",
   "name": "python3"
  },
  "language_info": {
   "name": "python",
   "version": "3.11.11"
  }
 },
 "nbformat": 4,
 "nbformat_minor": 5
}
