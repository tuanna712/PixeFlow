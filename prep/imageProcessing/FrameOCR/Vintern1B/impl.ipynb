{
 "cells": [
  {
   "cell_type": "code",
   "execution_count": null,
   "id": "d185b5d6",
   "metadata": {},
   "outputs": [],
   "source": [
    "import torch\n",
    "from PIL import Image\n",
    "from pathlib import Path\n",
    "from transformers import AutoModel, AutoTokenizer\n",
    "from vintern import build_transform, dynamic_preprocess\n",
    "\n",
    "def load_image(image_file, input_size=448, max_num=12):\n",
    "    image = Image.open(image_file).convert('RGB')\n",
    "    transform = build_transform(input_size=input_size)\n",
    "    images = dynamic_preprocess(image, image_size=input_size, use_thumbnail=True, max_num=max_num)\n",
    "    pixel_values = [transform(image) for image in images]\n",
    "    pixel_values = torch.stack(pixel_values)\n",
    "    return pixel_values\n",
    "\n",
    "model = AutoModel.from_pretrained(\n",
    "    \"5CD-AI/Vintern-1B-v3_5\",\n",
    "    torch_dtype=torch.bfloat16,\n",
    "    low_cpu_mem_usage=True,\n",
    "    trust_remote_code=True,\n",
    "    use_flash_attn=False,\n",
    ").eval().cuda()\n",
    "\n",
    "tokenizer = AutoTokenizer.from_pretrained(\n",
    "    \"5CD-AI/Vintern-1B-v3_5\",\n",
    "    trust_remote_code=True,\n",
    "    use_fast=False,\n",
    ")"
   ]
  },
  {
   "cell_type": "code",
   "execution_count": null,
   "id": "17ad7292",
   "metadata": {},
   "outputs": [],
   "source": [
    "test_image = 'demo.jpg'\n",
    "\n",
    "pixel_values = load_image(test_image, max_num=6).to(torch.bfloat16).cuda()\n",
    "generation_config = dict(max_new_tokens= 1024, \n",
    "                         do_sample=False, \n",
    "                         num_beams = 3, \n",
    "                         repetition_penalty=2.5,\n",
    "                         )\n",
    "\n",
    "question = '<image>\\nTrích xuất thông tin chính trong ảnh và trả về dạng markdown.'\n",
    "\n",
    "response, history = model.chat(tokenizer, pixel_values, \n",
    "                               question, generation_config, \n",
    "                               history=None, return_history=True,\n",
    "                               )\n",
    "print(f'User: {question}\\nAssistant: {response}')"
   ]
  },
  {
   "cell_type": "code",
   "execution_count": null,
   "id": "f7ce4a6b",
   "metadata": {},
   "outputs": [],
   "source": []
  }
 ],
 "metadata": {
  "kernelspec": {
   "display_name": "apitcdk",
   "language": "python",
   "name": "python3"
  },
  "language_info": {
   "codemirror_mode": {
    "name": "ipython",
    "version": 3
   },
   "file_extension": ".py",
   "mimetype": "text/x-python",
   "name": "python",
   "nbconvert_exporter": "python",
   "pygments_lexer": "ipython3",
   "version": "3.11.11"
  }
 },
 "nbformat": 4,
 "nbformat_minor": 5
}
