{
 "cells": [
  {
   "cell_type": "code",
   "execution_count": null,
   "id": "f3101b22",
   "metadata": {},
   "outputs": [
    {
     "name": "stdout",
     "output_type": "stream",
     "text": [
      "Loading the pretrained model from ../../../../data/models/Autoshot/checkpoint/ckpt_0_200_0.pth\n",
      "Current model has 90 params, Updating 90 params\n"
     ]
    },
    {
     "data": {
      "application/vnd.jupyter.widget-view+json": {
       "model_id": "5c64ef294ffd4338ae87a8eedeaa39c9",
       "version_major": 2,
       "version_minor": 0
      },
      "text/plain": [
       "Overall Progress:   0%|          | 0/3 [00:00<?, ?video/s]"
      ]
     },
     "metadata": {},
     "output_type": "display_data"
    },
    {
     "data": {
      "application/vnd.jupyter.widget-view+json": {
       "model_id": "b68f4c73f8834407a3ce63cd62550c28",
       "version_major": 2,
       "version_minor": 0
      },
      "text/plain": [
       "Dectecting shots: 0batch [00:00, ?batch/s]"
      ]
     },
     "metadata": {},
     "output_type": "display_data"
    },
    {
     "data": {
      "application/vnd.jupyter.widget-view+json": {
       "model_id": "3825bb58711b4e97a9d588298c1d9251",
       "version_major": 2,
       "version_minor": 0
      },
      "text/plain": [
       "Dectecting shots: 0batch [00:00, ?batch/s]"
      ]
     },
     "metadata": {},
     "output_type": "display_data"
    },
    {
     "data": {
      "application/vnd.jupyter.widget-view+json": {
       "model_id": "ff498531190d4e7bbbeeaa11786ce2e3",
       "version_major": 2,
       "version_minor": 0
      },
      "text/plain": [
       "Dectecting shots: 0batch [00:00, ?batch/s]"
      ]
     },
     "metadata": {},
     "output_type": "display_data"
    }
   ],
   "source": [
    "import sys\n",
    "from pathlib import Path\n",
    "from autoshot import process_videos\n",
    "sys.path.append(str(Path('impl.ipynb').resolve().parents[4]))\n",
    "\n",
    "pretrained_model_path = \"../../../../data/models/Autoshot/checkpoint/ckpt_0_200_0.pth\"\n",
    "videos_path = \"../../../../data/sample/\"\n",
    "\n",
    "def main_process():\n",
    "    input_dir = [\n",
    "        videos_path,\n",
    "    ]\n",
    "    keyframe_dir = [\n",
    "        \"../../../../data/sample/keyframes\",\n",
    "    ]\n",
    "    \n",
    "    for i in range(len(input_dir)):\n",
    "        results = process_videos(input_dir[i], pretrained_model_path, keyframe_dir[i])\n",
    "\n",
    "main_process()"
   ]
  }
 ],
 "metadata": {
  "kernelspec": {
   "display_name": "apitcdk",
   "language": "python",
   "name": "python3"
  },
  "language_info": {
   "codemirror_mode": {
    "name": "ipython",
    "version": 3
   },
   "file_extension": ".py",
   "mimetype": "text/x-python",
   "name": "python",
   "nbconvert_exporter": "python",
   "pygments_lexer": "ipython3",
   "version": "3.11.11"
  }
 },
 "nbformat": 4,
 "nbformat_minor": 5
}
