{
 "cells": [
  {
   "cell_type": "code",
   "execution_count": null,
   "id": "86e7804a",
   "metadata": {},
   "outputs": [],
   "source": [
    "import sys, os\n",
    "from pathlib import Path\n",
    "sys.path.append(str(Path('image_proc.ipynb').resolve().parents[3]))\n",
    "from prep.params import SQLITE_PATH\n",
    "from prep.sqlitedb import MetadataDB\n",
    "\n",
    "db = MetadataDB(\"../../\"+SQLITE_PATH)\n",
    "if db.check_table_exists(\"Video\"):\n",
    "    video_ids = [video[0] for video in db.fetch_videos()]\n",
    "    print(f\"There are {len(video_ids)} videos in the database, ids as below:\")\n",
    "    print(video_ids)"
   ]
  }
 ],
 "metadata": {
  "language_info": {
   "name": "python"
  }
 },
 "nbformat": 4,
 "nbformat_minor": 5
}
